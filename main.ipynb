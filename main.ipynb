{
 "cells": [
  {
   "cell_type": "code",
   "execution_count": 35,
   "metadata": {},
   "outputs": [],
   "source": [
    "import sys\n",
    "import torch\n",
    "import dgl\n",
    "import numpy as np\n",
    "from sklearn.neighbors import NearestNeighbors\n",
    "import recommend as r\n",
    "import spotipy\n",
    "from spotipy.oauth2 import SpotifyClientCredentials"
   ]
  },
  {
   "cell_type": "code",
   "execution_count": 36,
   "metadata": {},
   "outputs": [],
   "source": [
    "sys.path.insert(0,'/home/adarsh/projects/new-folder/utils')\n",
    "from utils.utils import load_features, load_graph"
   ]
  },
  {
   "cell_type": "code",
   "execution_count": 74,
   "metadata": {},
   "outputs": [
    {
     "name": "stdout",
     "output_type": "stream",
     "text": [
      "Loading feature data...\n",
      "Feature data shape: torch.Size([34443, 13])\n",
      "Loading graph data...\n",
      "Graph Info:\n",
      " Graph named 'G' with 34443 nodes and 3377538 edges\n"
     ]
    }
   ],
   "source": [
    "# Load graph, feat_data\n",
    "feat_dir = \"/home/adarsh/projects/new-folder/data/songset_features.csv\"\n",
    "feat_data, uri_map = load_features(feat_dir)\n",
    "\n",
    "graph_dir = \"/home/adarsh/projects/new-folder/data/graph_main.gpickle\"\n",
    "dgl_G, weights = load_graph(graph_dir, uri_map)"
   ]
  },
  {
   "cell_type": "code",
   "execution_count": 75,
   "metadata": {},
   "outputs": [
    {
     "name": "stdout",
     "output_type": "stream",
     "text": [
      "34443\n"
     ]
    }
   ],
   "source": [
    "print(len(uri_map))"
   ]
  },
  {
   "cell_type": "code",
   "execution_count": 76,
   "metadata": {},
   "outputs": [],
   "source": [
    "import json\n",
    "def load_json_file(file_path):\n",
    "    with open(file_path, 'r') as file:\n",
    "        data = json.load(file)\n",
    "    return data\n",
    "\n",
    "file_path = '/home/adarsh/projects/new-folder/model/uri_map_170k.json'\n",
    "uri_map = load_json_file(file_path)"
   ]
  },
  {
   "cell_type": "code",
   "execution_count": 77,
   "metadata": {},
   "outputs": [
    {
     "name": "stdout",
     "output_type": "stream",
     "text": [
      "170089\n"
     ]
    }
   ],
   "source": [
    "print(len(uri_map))"
   ]
  },
  {
   "cell_type": "code",
   "execution_count": 38,
   "metadata": {},
   "outputs": [],
   "source": [
    "from dgl.nn import SAGEConv\n",
    "import torch.nn as nn\n",
    "import torch.nn.functional as F\n",
    "\n",
    "class GraphSAGE(nn.Module):\n",
    "    def __init__(self, in_feats, h_feats):\n",
    "        super(GraphSAGE, self).__init__()\n",
    "        self.conv1 = SAGEConv(in_feats, h_feats, 'mean')\n",
    "        self.conv2 = SAGEConv(h_feats, h_feats, 'mean')\n",
    "\n",
    "    def forward(self, g, in_feat, weights):\n",
    "        h = self.conv1(g, in_feat, edge_weight=weights[g.edata[dgl.EID]])\n",
    "        h = F.relu(h)\n",
    "        h = self.conv2(g, h, edge_weight=weights[g.edata[dgl.EID]])\n",
    "        return h\n",
    "    \n",
    "class MLPPredictor(nn.Module):\n",
    "    def __init__(self, h_feats):\n",
    "        super().__init__()\n",
    "        self.W1 = nn.Linear(h_feats * 2, h_feats)\n",
    "        self.W2 = nn.Linear(h_feats, 1)\n",
    "\n",
    "    def apply_edges(self, edges):\n",
    "        h = torch.cat([edges.src['h'], edges.dst['h']], 1)\n",
    "        return {'score': self.W2(F.relu(self.W1(h))).squeeze(1)}\n",
    "    \n",
    "    def forward(self, g, h, edges='__ALL__'):\n",
    "        with g.local_scope():\n",
    "            g.ndata['h'] = h\n",
    "            if edges != '__ALL__':\n",
    "                g.apply_edges(self.apply_edges, edges=edges)\n",
    "            else: \n",
    "                g.apply_edges(self.apply_edges)\n",
    "            return g.edata['score']"
   ]
  },
  {
   "cell_type": "code",
   "execution_count": 39,
   "metadata": {},
   "outputs": [],
   "source": [
    "model = GraphSAGE(13,10)\n",
    "pred = MLPPredictor(10)\n",
    "model_path = '/home/adarsh/projects/new-folder/model/460k_model.pt'\n",
    "pred_path = '/home/adarsh/projects/new-folder/model/460k_pred.pt'"
   ]
  },
  {
   "cell_type": "code",
   "execution_count": 40,
   "metadata": {},
   "outputs": [
    {
     "data": {
      "text/plain": [
       "MLPPredictor(\n",
       "  (W1): Linear(in_features=20, out_features=10, bias=True)\n",
       "  (W2): Linear(in_features=10, out_features=1, bias=True)\n",
       ")"
      ]
     },
     "execution_count": 40,
     "metadata": {},
     "output_type": "execute_result"
    }
   ],
   "source": [
    "# Load Pre-Existing Model\n",
    "model = torch.load(model_path)\n",
    "pred = torch.load(pred_path)\n",
    "model.eval()\n",
    "pred.eval()"
   ]
  },
  {
   "cell_type": "code",
   "execution_count": 42,
   "metadata": {},
   "outputs": [],
   "source": [
    "dgl_G.edata[dgl.EID] = torch.tensor(np.arange(dgl_G.number_of_edges()))"
   ]
  },
  {
   "cell_type": "code",
   "execution_count": 45,
   "metadata": {},
   "outputs": [],
   "source": [
    "feats_splitted = np.array_split(np.arange(34443), 500)"
   ]
  },
  {
   "cell_type": "code",
   "execution_count": 46,
   "metadata": {},
   "outputs": [],
   "source": [
    "preds = torch.tensor([])\n",
    "z = torch.tensor([])\n",
    "for i in feats_splitted:\n",
    "    temp_graph = dgl.node_subgraph(dgl_G, i)\n",
    "    \n",
    "    # Create Embeddings\n",
    "    z_i = model(temp_graph, feat_data[i], weights)\n",
    "\n",
    "    # Create Predictions\n",
    "    # In the form of the strength of the connection between source, destination from dgl_G.edges()\n",
    "    pred_i = pred(temp_graph, z_i)\n",
    "    preds = torch.cat((preds, pred_i), 0)\n",
    "    z = torch.cat((z, z_i), 0)"
   ]
  },
  {
   "cell_type": "code",
   "execution_count": 47,
   "metadata": {},
   "outputs": [
    {
     "name": "stdout",
     "output_type": "stream",
     "text": [
      "torch.Size([13364])\n",
      "torch.Size([34443, 10])\n"
     ]
    }
   ],
   "source": [
    "print(preds.shape)\n",
    "print(z.shape)"
   ]
  },
  {
   "cell_type": "code",
   "execution_count": 48,
   "metadata": {},
   "outputs": [
    {
     "data": {
      "text/html": [
       "<style>#sk-container-id-1 {color: black;background-color: white;}#sk-container-id-1 pre{padding: 0;}#sk-container-id-1 div.sk-toggleable {background-color: white;}#sk-container-id-1 label.sk-toggleable__label {cursor: pointer;display: block;width: 100%;margin-bottom: 0;padding: 0.3em;box-sizing: border-box;text-align: center;}#sk-container-id-1 label.sk-toggleable__label-arrow:before {content: \"▸\";float: left;margin-right: 0.25em;color: #696969;}#sk-container-id-1 label.sk-toggleable__label-arrow:hover:before {color: black;}#sk-container-id-1 div.sk-estimator:hover label.sk-toggleable__label-arrow:before {color: black;}#sk-container-id-1 div.sk-toggleable__content {max-height: 0;max-width: 0;overflow: hidden;text-align: left;background-color: #f0f8ff;}#sk-container-id-1 div.sk-toggleable__content pre {margin: 0.2em;color: black;border-radius: 0.25em;background-color: #f0f8ff;}#sk-container-id-1 input.sk-toggleable__control:checked~div.sk-toggleable__content {max-height: 200px;max-width: 100%;overflow: auto;}#sk-container-id-1 input.sk-toggleable__control:checked~label.sk-toggleable__label-arrow:before {content: \"▾\";}#sk-container-id-1 div.sk-estimator input.sk-toggleable__control:checked~label.sk-toggleable__label {background-color: #d4ebff;}#sk-container-id-1 div.sk-label input.sk-toggleable__control:checked~label.sk-toggleable__label {background-color: #d4ebff;}#sk-container-id-1 input.sk-hidden--visually {border: 0;clip: rect(1px 1px 1px 1px);clip: rect(1px, 1px, 1px, 1px);height: 1px;margin: -1px;overflow: hidden;padding: 0;position: absolute;width: 1px;}#sk-container-id-1 div.sk-estimator {font-family: monospace;background-color: #f0f8ff;border: 1px dotted black;border-radius: 0.25em;box-sizing: border-box;margin-bottom: 0.5em;}#sk-container-id-1 div.sk-estimator:hover {background-color: #d4ebff;}#sk-container-id-1 div.sk-parallel-item::after {content: \"\";width: 100%;border-bottom: 1px solid gray;flex-grow: 1;}#sk-container-id-1 div.sk-label:hover label.sk-toggleable__label {background-color: #d4ebff;}#sk-container-id-1 div.sk-serial::before {content: \"\";position: absolute;border-left: 1px solid gray;box-sizing: border-box;top: 0;bottom: 0;left: 50%;z-index: 0;}#sk-container-id-1 div.sk-serial {display: flex;flex-direction: column;align-items: center;background-color: white;padding-right: 0.2em;padding-left: 0.2em;position: relative;}#sk-container-id-1 div.sk-item {position: relative;z-index: 1;}#sk-container-id-1 div.sk-parallel {display: flex;align-items: stretch;justify-content: center;background-color: white;position: relative;}#sk-container-id-1 div.sk-item::before, #sk-container-id-1 div.sk-parallel-item::before {content: \"\";position: absolute;border-left: 1px solid gray;box-sizing: border-box;top: 0;bottom: 0;left: 50%;z-index: -1;}#sk-container-id-1 div.sk-parallel-item {display: flex;flex-direction: column;z-index: 1;position: relative;background-color: white;}#sk-container-id-1 div.sk-parallel-item:first-child::after {align-self: flex-end;width: 50%;}#sk-container-id-1 div.sk-parallel-item:last-child::after {align-self: flex-start;width: 50%;}#sk-container-id-1 div.sk-parallel-item:only-child::after {width: 0;}#sk-container-id-1 div.sk-dashed-wrapped {border: 1px dashed gray;margin: 0 0.4em 0.5em 0.4em;box-sizing: border-box;padding-bottom: 0.4em;background-color: white;}#sk-container-id-1 div.sk-label label {font-family: monospace;font-weight: bold;display: inline-block;line-height: 1.2em;}#sk-container-id-1 div.sk-label-container {text-align: center;}#sk-container-id-1 div.sk-container {/* jupyter's `normalize.less` sets `[hidden] { display: none; }` but bootstrap.min.css set `[hidden] { display: none !important; }` so we also need the `!important` here to be able to override the default hidden behavior on the sphinx rendered scikit-learn.org. See: https://github.com/scikit-learn/scikit-learn/issues/21755 */display: inline-block !important;position: relative;}#sk-container-id-1 div.sk-text-repr-fallback {display: none;}</style><div id=\"sk-container-id-1\" class=\"sk-top-container\"><div class=\"sk-text-repr-fallback\"><pre>NearestNeighbors(n_neighbors=25, radius=0.4)</pre><b>In a Jupyter environment, please rerun this cell to show the HTML representation or trust the notebook. <br />On GitHub, the HTML representation is unable to render, please try loading this page with nbviewer.org.</b></div><div class=\"sk-container\" hidden><div class=\"sk-item\"><div class=\"sk-estimator sk-toggleable\"><input class=\"sk-toggleable__control sk-hidden--visually\" id=\"sk-estimator-id-1\" type=\"checkbox\" checked><label for=\"sk-estimator-id-1\" class=\"sk-toggleable__label sk-toggleable__label-arrow\">NearestNeighbors</label><div class=\"sk-toggleable__content\"><pre>NearestNeighbors(n_neighbors=25, radius=0.4)</pre></div></div></div></div></div>"
      ],
      "text/plain": [
       "NearestNeighbors(n_neighbors=25, radius=0.4)"
      ]
     },
     "execution_count": 48,
     "metadata": {},
     "output_type": "execute_result"
    }
   ],
   "source": [
    "neigh = NearestNeighbors(n_neighbors=25, radius=0.4)\n",
    "neigh.fit(feat_data)"
   ]
  },
  {
   "cell_type": "code",
   "execution_count": 53,
   "metadata": {},
   "outputs": [
    {
     "name": "stderr",
     "output_type": "stream",
     "text": [
      "HTTP Error for GET to https://api.spotify.com/v1/me/tracks with Params: {'limit': 20, 'offset': 0, 'market': None} returned 403 due to Forbidden.\n"
     ]
    },
    {
     "ename": "SpotifyException",
     "evalue": "http status: 403, code:-1 - https://api.spotify.com/v1/me/tracks?limit=20&offset=0:\n Forbidden., reason: None",
     "output_type": "error",
     "traceback": [
      "\u001b[0;31m---------------------------------------------------------------------------\u001b[0m",
      "\u001b[0;31mHTTPError\u001b[0m                                 Traceback (most recent call last)",
      "File \u001b[0;32m~/miniconda3/envs/ml/lib/python3.10/site-packages/spotipy/client.py:271\u001b[0m, in \u001b[0;36mSpotify._internal_call\u001b[0;34m(self, method, url, payload, params)\u001b[0m\n\u001b[1;32m    266\u001b[0m response \u001b[39m=\u001b[39m \u001b[39mself\u001b[39m\u001b[39m.\u001b[39m_session\u001b[39m.\u001b[39mrequest(\n\u001b[1;32m    267\u001b[0m     method, url, headers\u001b[39m=\u001b[39mheaders, proxies\u001b[39m=\u001b[39m\u001b[39mself\u001b[39m\u001b[39m.\u001b[39mproxies,\n\u001b[1;32m    268\u001b[0m     timeout\u001b[39m=\u001b[39m\u001b[39mself\u001b[39m\u001b[39m.\u001b[39mrequests_timeout, \u001b[39m*\u001b[39m\u001b[39m*\u001b[39margs\n\u001b[1;32m    269\u001b[0m )\n\u001b[0;32m--> 271\u001b[0m response\u001b[39m.\u001b[39;49mraise_for_status()\n\u001b[1;32m    272\u001b[0m results \u001b[39m=\u001b[39m response\u001b[39m.\u001b[39mjson()\n",
      "File \u001b[0;32m~/miniconda3/envs/ml/lib/python3.10/site-packages/requests/models.py:1021\u001b[0m, in \u001b[0;36mResponse.raise_for_status\u001b[0;34m(self)\u001b[0m\n\u001b[1;32m   1020\u001b[0m \u001b[39mif\u001b[39;00m http_error_msg:\n\u001b[0;32m-> 1021\u001b[0m     \u001b[39mraise\u001b[39;00m HTTPError(http_error_msg, response\u001b[39m=\u001b[39m\u001b[39mself\u001b[39m)\n",
      "\u001b[0;31mHTTPError\u001b[0m: 403 Client Error: Forbidden for url: https://api.spotify.com/v1/me/tracks?limit=20&offset=0",
      "\nDuring handling of the above exception, another exception occurred:\n",
      "\u001b[0;31mSpotifyException\u001b[0m                          Traceback (most recent call last)",
      "Cell \u001b[0;32mIn[53], line 7\u001b[0m\n\u001b[1;32m      4\u001b[0m redirect_uri \u001b[39m=\u001b[39m \u001b[39m\"\u001b[39m\u001b[39mhttps://localhost:8080/\u001b[39m\u001b[39m\"\u001b[39m\n\u001b[1;32m      5\u001b[0m sp \u001b[39m=\u001b[39m spotipy\u001b[39m.\u001b[39mSpotify(auth_manager\u001b[39m=\u001b[39mSpotifyClientCredentials(client_id,client_secret,redirect_uri))\n\u001b[0;32m----> 7\u001b[0m results \u001b[39m=\u001b[39m sp\u001b[39m.\u001b[39;49mcurrent_user_saved_tracks()\n\u001b[1;32m      8\u001b[0m \u001b[39mfor\u001b[39;00m idx, item \u001b[39min\u001b[39;00m \u001b[39menumerate\u001b[39m(results[\u001b[39m'\u001b[39m\u001b[39mitems\u001b[39m\u001b[39m'\u001b[39m]):\n\u001b[1;32m      9\u001b[0m     track \u001b[39m=\u001b[39m item[\u001b[39m'\u001b[39m\u001b[39mtrack\u001b[39m\u001b[39m'\u001b[39m]\n",
      "File \u001b[0;32m~/miniconda3/envs/ml/lib/python3.10/site-packages/spotipy/client.py:1286\u001b[0m, in \u001b[0;36mSpotify.current_user_saved_tracks\u001b[0;34m(self, limit, offset, market)\u001b[0m\n\u001b[1;32m   1276\u001b[0m \u001b[39mdef\u001b[39;00m \u001b[39mcurrent_user_saved_tracks\u001b[39m(\u001b[39mself\u001b[39m, limit\u001b[39m=\u001b[39m\u001b[39m20\u001b[39m, offset\u001b[39m=\u001b[39m\u001b[39m0\u001b[39m, market\u001b[39m=\u001b[39m\u001b[39mNone\u001b[39;00m):\n\u001b[1;32m   1277\u001b[0m \u001b[39m    \u001b[39m\u001b[39m\"\"\" Gets a list of the tracks saved in the current authorized user's\u001b[39;00m\n\u001b[1;32m   1278\u001b[0m \u001b[39m        \"Your Music\" library\u001b[39;00m\n\u001b[1;32m   1279\u001b[0m \n\u001b[0;32m   (...)\u001b[0m\n\u001b[1;32m   1284\u001b[0m \n\u001b[1;32m   1285\u001b[0m \u001b[39m    \"\"\"\u001b[39;00m\n\u001b[0;32m-> 1286\u001b[0m     \u001b[39mreturn\u001b[39;00m \u001b[39mself\u001b[39;49m\u001b[39m.\u001b[39;49m_get(\u001b[39m\"\u001b[39;49m\u001b[39mme/tracks\u001b[39;49m\u001b[39m\"\u001b[39;49m, limit\u001b[39m=\u001b[39;49mlimit, offset\u001b[39m=\u001b[39;49moffset, market\u001b[39m=\u001b[39;49mmarket)\n",
      "File \u001b[0;32m~/miniconda3/envs/ml/lib/python3.10/site-packages/spotipy/client.py:323\u001b[0m, in \u001b[0;36mSpotify._get\u001b[0;34m(self, url, args, payload, **kwargs)\u001b[0m\n\u001b[1;32m    320\u001b[0m \u001b[39mif\u001b[39;00m args:\n\u001b[1;32m    321\u001b[0m     kwargs\u001b[39m.\u001b[39mupdate(args)\n\u001b[0;32m--> 323\u001b[0m \u001b[39mreturn\u001b[39;00m \u001b[39mself\u001b[39;49m\u001b[39m.\u001b[39;49m_internal_call(\u001b[39m\"\u001b[39;49m\u001b[39mGET\u001b[39;49m\u001b[39m\"\u001b[39;49m, url, payload, kwargs)\n",
      "File \u001b[0;32m~/miniconda3/envs/ml/lib/python3.10/site-packages/spotipy/client.py:293\u001b[0m, in \u001b[0;36mSpotify._internal_call\u001b[0;34m(self, method, url, payload, params)\u001b[0m\n\u001b[1;32m    286\u001b[0m         reason \u001b[39m=\u001b[39m \u001b[39mNone\u001b[39;00m\n\u001b[1;32m    288\u001b[0m     logger\u001b[39m.\u001b[39merror(\n\u001b[1;32m    289\u001b[0m         \u001b[39m'\u001b[39m\u001b[39mHTTP Error for \u001b[39m\u001b[39m%s\u001b[39;00m\u001b[39m to \u001b[39m\u001b[39m%s\u001b[39;00m\u001b[39m with Params: \u001b[39m\u001b[39m%s\u001b[39;00m\u001b[39m returned \u001b[39m\u001b[39m%s\u001b[39;00m\u001b[39m due to \u001b[39m\u001b[39m%s\u001b[39;00m\u001b[39m'\u001b[39m,\n\u001b[1;32m    290\u001b[0m         method, url, args\u001b[39m.\u001b[39mget(\u001b[39m\"\u001b[39m\u001b[39mparams\u001b[39m\u001b[39m\"\u001b[39m), response\u001b[39m.\u001b[39mstatus_code, msg\n\u001b[1;32m    291\u001b[0m     )\n\u001b[0;32m--> 293\u001b[0m     \u001b[39mraise\u001b[39;00m SpotifyException(\n\u001b[1;32m    294\u001b[0m         response\u001b[39m.\u001b[39mstatus_code,\n\u001b[1;32m    295\u001b[0m         \u001b[39m-\u001b[39m\u001b[39m1\u001b[39m,\n\u001b[1;32m    296\u001b[0m         \u001b[39m\"\u001b[39m\u001b[39m%s\u001b[39;00m\u001b[39m:\u001b[39m\u001b[39m\\n\u001b[39;00m\u001b[39m \u001b[39m\u001b[39m%s\u001b[39;00m\u001b[39m\"\u001b[39m \u001b[39m%\u001b[39m (response\u001b[39m.\u001b[39murl, msg),\n\u001b[1;32m    297\u001b[0m         reason\u001b[39m=\u001b[39mreason,\n\u001b[1;32m    298\u001b[0m         headers\u001b[39m=\u001b[39mresponse\u001b[39m.\u001b[39mheaders,\n\u001b[1;32m    299\u001b[0m     )\n\u001b[1;32m    300\u001b[0m \u001b[39mexcept\u001b[39;00m requests\u001b[39m.\u001b[39mexceptions\u001b[39m.\u001b[39mRetryError \u001b[39mas\u001b[39;00m retry_error:\n\u001b[1;32m    301\u001b[0m     request \u001b[39m=\u001b[39m retry_error\u001b[39m.\u001b[39mrequest\n",
      "\u001b[0;31mSpotifyException\u001b[0m: http status: 403, code:-1 - https://api.spotify.com/v1/me/tracks?limit=20&offset=0:\n Forbidden., reason: None"
     ]
    }
   ],
   "source": [
    "from spotipy.oauth2 import SpotifyClientCredentials\n",
    "# Add cilent_id and client_secret\n",
    "client_id = None\n",
    "client_secret = None\n",
    "redirect_uri = \"https://localhost:8080/\"\n",
    "sp = spotipy.Spotify(auth_manager=SpotifyClientCredentials(client_id,client_secret,redirect_uri))\n",
    "\n",
    "results = sp.current_user_saved_tracks()\n",
    "for idx, item in enumerate(results['items']):\n",
    "    track = item['track']\n",
    "    print(idx, track['artists'][0]['name'], \" - \", track['name'])\n"
   ]
  },
  {
   "cell_type": "code",
   "execution_count": 78,
   "metadata": {},
   "outputs": [],
   "source": [
    "item = {'name': 'Happy :)',\n",
    " 'collaborative': 'false',\n",
    " 'pid': 9360,\n",
    " 'modified_at': 1500854400,\n",
    " 'num_tracks': 3,\n",
    " 'num_albums': 10,\n",
    " 'num_followers': 2,\n",
    " 'tracks': [{'pos': 0,\n",
    "   'artist_name': 'Phoenix',\n",
    "   'track_uri': 'spotify:track:6ZrlXT6mUMEgomN128iekU',\n",
    "   'artist_uri': 'spotify:artist:1xU878Z1QtBldR7ru9owdU',\n",
    "   'track_name': 'Lisztomania',\n",
    "   'album_uri': 'spotify:album:6YXmQrXOjJoMheJ2IA5NqK',\n",
    "   'duration_ms': 241640,\n",
    "   'album_name': 'Wolfgang Amadeus Phoenix'},\n",
    "  {'pos': 1,\n",
    "   'artist_name': 'Michael Jackson',\n",
    "   'track_uri': 'spotify:track:2rN2WzftSKZzDLFApWECWz',\n",
    "   'artist_uri': 'spotify:artist:3fMbdgg4jU18AjLCKBhRSm',\n",
    "   'track_name': 'Will You Be There (Theme from \"Free Willy\")',\n",
    "   'album_uri': 'spotify:album:48TFZhC2UmuzNL23WshdwW',\n",
    "   'duration_ms': 352893,\n",
    "   'album_name': 'FREE WILLY - ORIGINAL MOTION PICTURE SOUNDTRACK'},\n",
    "  {'pos': 2,\n",
    "   'artist_name': 'Lake Street Dive',\n",
    "   'track_uri': 'spotify:track:6FxKh5EdB8S22V4i3BORsr',\n",
    "   'artist_uri': 'spotify:artist:3nuc29fYGlQbIrwh4yrNWd',\n",
    "   'track_name': 'Rabid Animal',\n",
    "   'album_uri': 'spotify:album:2AxRR7XLqFFJuMtjn9fpOF',\n",
    "   'duration_ms': 133779,\n",
    "   'album_name': 'Bad Self Portraits'}],\n",
    " 'num_edits': 10,\n",
    " 'duration_ms': 2315002,\n",
    " 'num_artists': 10}"
   ]
  },
  {
   "cell_type": "code",
   "execution_count": 79,
   "metadata": {},
   "outputs": [
    {
     "name": "stdout",
     "output_type": "stream",
     "text": [
      "Playlist ID: 9360\n",
      "Playlist Length: 3\n",
      "['Lisztomania---Phoenix', 'Will You Be There (Theme from \"Free Willy\")---Michael Jackson', 'Rabid Animal---Lake Street Dive']\n"
     ]
    }
   ],
   "source": [
    "item, original_tracks, seeds = r.get_playlist_info(item)\n",
    "print(original_tracks)"
   ]
  },
  {
   "cell_type": "code",
   "execution_count": 80,
   "metadata": {},
   "outputs": [
    {
     "ename": "DGLError",
     "evalue": "u contains invalid node IDs",
     "output_type": "error",
     "traceback": [
      "\u001b[0;31m---------------------------------------------------------------------------\u001b[0m",
      "\u001b[0;31mDGLError\u001b[0m                                  Traceback (most recent call last)",
      "Cell \u001b[0;32mIn[80], line 1\u001b[0m\n\u001b[0;32m----> 1\u001b[0m uri_recs \u001b[39m=\u001b[39m r\u001b[39m.\u001b[39;49mrecommend(seeds, dgl_G, z, pred, neigh, feat_data, uri_map)\n\u001b[1;32m      2\u001b[0m \u001b[39mprint\u001b[39m(uri_recs)\n",
      "File \u001b[0;32m~/projects/new-folder/recommend.py:41\u001b[0m, in \u001b[0;36mrecommend\u001b[0;34m(seeds, dgl_G, z, pred, neigh, feat_data, uri_map)\u001b[0m\n\u001b[1;32m     39\u001b[0m \u001b[39mfor\u001b[39;00m s \u001b[39min\u001b[39;00m seeds:\n\u001b[1;32m     40\u001b[0m     s \u001b[39m=\u001b[39m uri_map[s]\n\u001b[0;32m---> 41\u001b[0m     _, candidates \u001b[39m=\u001b[39m dgl_G\u001b[39m.\u001b[39;49mout_edges(s, form\u001b[39m=\u001b[39;49m\u001b[39m'\u001b[39;49m\u001b[39muv\u001b[39;49m\u001b[39m'\u001b[39;49m)\n\u001b[1;32m     42\u001b[0m     s_embed \u001b[39m=\u001b[39m z[s]\u001b[39m.\u001b[39munsqueeze(dim\u001b[39m=\u001b[39m\u001b[39m0\u001b[39m)\n\u001b[1;32m     43\u001b[0m     edge_embeds \u001b[39m=\u001b[39m [torch\u001b[39m.\u001b[39mcat([s_embed, z[c\u001b[39m.\u001b[39mitem()]\u001b[39m.\u001b[39munsqueeze(dim\u001b[39m=\u001b[39m\u001b[39m0\u001b[39m)],\u001b[39m1\u001b[39m) \u001b[39mfor\u001b[39;00m c \u001b[39min\u001b[39;00m candidates]\n",
      "File \u001b[0;32m~/miniconda3/envs/ml/lib/python3.10/site-packages/dgl/heterograph.py:3506\u001b[0m, in \u001b[0;36mDGLGraph.out_edges\u001b[0;34m(self, u, form, etype)\u001b[0m\n\u001b[1;32m   3502\u001b[0m srctype, _, _ \u001b[39m=\u001b[39m \u001b[39mself\u001b[39m\u001b[39m.\u001b[39mto_canonical_etype(etype)\n\u001b[1;32m   3503\u001b[0m \u001b[39mif\u001b[39;00m F\u001b[39m.\u001b[39mas_scalar(F\u001b[39m.\u001b[39msum(\u001b[39mself\u001b[39m\u001b[39m.\u001b[39mhas_nodes(u, ntype\u001b[39m=\u001b[39msrctype), dim\u001b[39m=\u001b[39m\u001b[39m0\u001b[39m)) \u001b[39m!=\u001b[39m \u001b[39mlen\u001b[39m(\n\u001b[1;32m   3504\u001b[0m     u\n\u001b[1;32m   3505\u001b[0m ):\n\u001b[0;32m-> 3506\u001b[0m     \u001b[39mraise\u001b[39;00m DGLError(\u001b[39m\"\u001b[39m\u001b[39mu contains invalid node IDs\u001b[39m\u001b[39m\"\u001b[39m)\n\u001b[1;32m   3507\u001b[0m src, dst, eid \u001b[39m=\u001b[39m \u001b[39mself\u001b[39m\u001b[39m.\u001b[39m_graph\u001b[39m.\u001b[39mout_edges(\u001b[39mself\u001b[39m\u001b[39m.\u001b[39mget_etype_id(etype), u)\n\u001b[1;32m   3508\u001b[0m \u001b[39mif\u001b[39;00m form \u001b[39m==\u001b[39m \u001b[39m\"\u001b[39m\u001b[39mall\u001b[39m\u001b[39m\"\u001b[39m:\n",
      "\u001b[0;31mDGLError\u001b[0m: u contains invalid node IDs"
     ]
    }
   ],
   "source": [
    "uri_recs = r.recommend(seeds, dgl_G, z, pred, neigh, feat_data, uri_map)\n",
    "print(uri_recs)"
   ]
  }
 ],
 "metadata": {
  "kernelspec": {
   "display_name": "ml",
   "language": "python",
   "name": "python3"
  },
  "language_info": {
   "codemirror_mode": {
    "name": "ipython",
    "version": 3
   },
   "file_extension": ".py",
   "mimetype": "text/x-python",
   "name": "python",
   "nbconvert_exporter": "python",
   "pygments_lexer": "ipython3",
   "version": "3.10.8"
  },
  "orig_nbformat": 4
 },
 "nbformat": 4,
 "nbformat_minor": 2
}
